{
 "cells": [
  {
   "cell_type": "code",
   "execution_count": 1,
   "id": "71892349-3a81-4a63-9341-15b321f0f557",
   "metadata": {},
   "outputs": [
    {
     "data": {
      "text/plain": [
       "0.75"
      ]
     },
     "execution_count": 1,
     "metadata": {},
     "output_type": "execute_result"
    }
   ],
   "source": [
    "import pandas as pn\n",
    "from sklearn.tree import DecisionTreeClassifier\n",
    "from sklearn.model_selection import train_test_split\n",
    "from sklearn.metrics import accuracy_score\n",
    "music_data=pn.read_csv('music.csv')\n",
    "input_data=music_data.drop(columns=['genre'])\n",
    "output_data=music_data['genre']\n",
    "input_train,input_test,output_train,output_test=train_test_split(input_data,output_data,test_size=0.4)\n",
    "model=DecisionTreeClassifier()\n",
    "model.fit(input_train,output_train)\n",
    "predictions=model.predict(input_test)\n",
    "score=accuracy_score(output_test,predictions)\n",
    "score"
   ]
  },
  {
   "cell_type": "code",
   "execution_count": null,
   "id": "3312fa50-8cc4-4cda-add1-3559aca1966d",
   "metadata": {},
   "outputs": [],
   "source": []
  }
 ],
 "metadata": {
  "kernelspec": {
   "display_name": "Python 3 (ipykernel)",
   "language": "python",
   "name": "python3"
  },
  "language_info": {
   "codemirror_mode": {
    "name": "ipython",
    "version": 3
   },
   "file_extension": ".py",
   "mimetype": "text/x-python",
   "name": "python",
   "nbconvert_exporter": "python",
   "pygments_lexer": "ipython3",
   "version": "3.12.7"
  }
 },
 "nbformat": 4,
 "nbformat_minor": 5
}
